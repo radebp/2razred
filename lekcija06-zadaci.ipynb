{
 "cells": [
  {
   "cell_type": "markdown",
   "metadata": {},
   "source": [
    "## Лекција 6. - задаци"
   ]
  },
  {
   "cell_type": "markdown",
   "metadata": {},
   "source": [
    "**Задатак 1.** Пажљиво погледај овај Пајтон програм па одговори на питања која следе:"
   ]
  },
  {
   "cell_type": "code",
   "execution_count": null,
   "metadata": {},
   "outputs": [],
   "source": [
    "import pandas as pd\n",
    "import matplotlib.pyplot as plt\n",
    "\n",
    "podaci = [[\"Ana\",     \"ž\", 13, 46, 160],\n",
    "          [\"Bojan\",   \"m\", 14, 52, 165],\n",
    "          [\"Vlada\",   \"m\", 13, 47, 157],\n",
    "          [\"Gordana\", \"ž\", 15, 54, 165],\n",
    "          [\"Dejan\",   \"m\", 15, 56, 163],\n",
    "          [\"Đorđe\",   \"m\", 13, 45, 159]]\n",
    "\n",
    "tabela = pd.DataFrame(podaci)\n",
    "tabela.columns=[\"Ime\", \"Pol\", \"Starost\", \"Masa\", \"Visina\"]\n",
    "\n",
    "print(tabela[\"Visina\"].min(), tabela[\"Visina\"].mean(), tabela[\"Visina\"].median())\n",
    "\n",
    "plt.figure(figsize=(10,5))\n",
    "plt.bar(tabela[\"Ime\"], tabela[\"Visina\"])\n",
    "plt.show()\n",
    "plt.close()\n",
    "\n",
    "temp_anomalije = pd.read_csv(\"podaci/TemperaturneAnomalije.csv\", header=None)\n",
    "drzave = pd.read_csv(\"https://raw.githubusercontent.com/cs109/2014_data/master/countries.csv\")\n",
    "US = pd.read_html(\"https://simple.wikipedia.org/wiki/List_of_U.S._states\", header=[0,1])[0]"
   ]
  },
  {
   "cell_type": "markdown",
   "metadata": {},
   "source": [
    "1. Зашто учитавамо две библиотеке?\n",
    "2. Зашто не радимо са подацима у облику листе, већ компликујемо себи живот структуром података *DataFrame* из библиотеке *pandas*?\n",
    "3. Како се зову колоне табеле `tabela`?\n",
    "4. У чему је разлика између функција `min`, `mean` и `median`?\n",
    "5. Како треба изменити програм па да на дијаграму поред висине добијемо и графички приказ масе деце?\n",
    "6. Како бисмо учитали табелу `TemperaturneAnomalije.csv` када би она имала заглавље?\n",
    "7. Да ли је табела `drzave` формирана на основу података који су смештени локално, на твом рачунару?\n",
    "8. У ком формату су представљени подаци на основу којих је формирана табела `US`?\n",
    "9. Шта би се десило када би у интернет претраживач укуцао `https://simple.wikipedia.org/wiki/List_of_U.S._states`?"
   ]
  },
  {
   "cell_type": "raw",
   "metadata": {},
   "source": [
    "1.\n",
    "2.\n",
    "3.\n",
    "4.\n",
    "5.\n",
    "6.\n",
    "7.\n",
    "8.\n",
    "9."
   ]
  },
  {
   "cell_type": "markdown",
   "metadata": {},
   "source": [
    "**Задатак 2.** У следећој листи су дати подаци о националним парковима Србије. За сваки национални парк је наведено његово име, површина у хектарима и година оснивања:"
   ]
  },
  {
   "cell_type": "code",
   "execution_count": null,
   "metadata": {},
   "outputs": [],
   "source": [
    "nac_parkovi = [[\"Fruška gora\", 25393, 1960],\n",
    "               [\"Đerdap\",      64000, 1974],\n",
    "               [\"Tara\",        22000, 1981],\n",
    "               [\"Kopaonik\",    11810, 1981],\n",
    "               [\"Šar-planina\", 39000, 1985]]"
   ]
  },
  {
   "cell_type": "markdown",
   "metadata": {},
   "source": [
    "*(а)* Од ове листе направи *DataFrame* па израчунај просечну површину националног парка (у хектарима), и укупну површину коју заузимају национални паркови у Србији (у квадратним километрима; 1 квадратни километар = 100 хектара)."
   ]
  },
  {
   "cell_type": "code",
   "execution_count": null,
   "metadata": {},
   "outputs": [],
   "source": []
  },
  {
   "cell_type": "markdown",
   "metadata": {},
   "source": [
    "*(б)* Прикажи линијским графиконом површине националних паркова у Србији."
   ]
  },
  {
   "cell_type": "code",
   "execution_count": null,
   "metadata": {},
   "outputs": [],
   "source": []
  },
  {
   "cell_type": "markdown",
   "metadata": {},
   "source": [
    "**Задатак 3.** Производња кукуруза и пшенице у периоду 2008-2012. у Србији је дата у следећој табели (подаци су исказани у хиљадама тона):\n",
    "\n",
    "| Godina | Kukuruz | Pšenica |\n",
    "|--|--|--|\n",
    "| 2008. | 6.158 | 2.095 |\n",
    "| 2009. | 6.396 | 2.067 |\n",
    "| 2010. | 7.207 | 1.631 |\n",
    "| 2011. | 6.480 | 2.076 |\n",
    "| 2012. | 3.532 | 1.911 |\n",
    "\n",
    "*(а)* Направи одговарајући *DataFrame* па израчунај максималну производњу кукуруза и минималну производњу пшенице у наведеном периоду. (Упутство: податке прво представи листом, а онда од листе направи *DataFrame*.)"
   ]
  },
  {
   "cell_type": "code",
   "execution_count": null,
   "metadata": {},
   "outputs": [],
   "source": []
  },
  {
   "cell_type": "markdown",
   "metadata": {},
   "source": [
    "*(б)* На једном графикону прикажи стубичастим дијаграмом производњу пшенице и кукуруза у наведеном периоду. (Води рачуна да прво исцрташ податке за кукуруз, а онда преко тога податке за пшеницу.)"
   ]
  },
  {
   "cell_type": "code",
   "execution_count": null,
   "metadata": {},
   "outputs": [],
   "source": []
  },
  {
   "cell_type": "markdown",
   "metadata": {},
   "source": [
    "*(в)* Израчунај просечну годишњу производњу кукуруза за наведени период, као и за колико се разликовала производња пшенице у најбољој и најлошијој години наведеног периода (у хиљадама тона)."
   ]
  },
  {
   "cell_type": "code",
   "execution_count": null,
   "metadata": {},
   "outputs": [],
   "source": []
  },
  {
   "cell_type": "markdown",
   "metadata": {},
   "source": [
    "**Задатак 4.** Ево трошкова живота једне породице током једне године, по месецима (сви износи су представљени у динарима):\n",
    "  \n",
    "  | Stavka | Jan | Feb | Mar | Apr | Maj | Jun | Jul | Avg | Sep | Okt | Nov | Dec |\n",
    "  |--------|-----|-----|-----|-----|-----|-----|-----|-----|-----|-----|-----|-----|\n",
    "  | Stanarina | 8.251 | 8.436 | 8.524 | 8.388 | 8.241 | 8.196 | 8.004 | 7.996 | 7.991 | 8.015 | 8.353 | 8.456 |\n",
    "  | Struja | 4.321 | 4.530 | 4.115 | 3.990 | 3.985 | 3.726 | 3.351 | 3.289 | 3.295 | 3.485 | 3.826 | 3.834 |\n",
    "  | Telefon (fiksni) | 1.425 | 1.538 | 1.623 | 1.489 | 1.521 | 1.485 | 1.491 | 1.399 | 1.467 | 1.531 | 1.410 | 1.385 |\n",
    "  | Telefon (mobilni) | 2.181 | 2.235 | 2.073 | 1.951 | 1.989 | 1.945 | 3.017 | 2.638 | 2.171 | 1.831 | 1.926 | 1.833 |\n",
    "  | TV i internet | 2.399 | 2.399 | 2.399 | 2.399 | 2.399 | 2.399 | 2.399 | 2.399 | 2.399 | 2.399 | 2.399 | 2.399  |\n",
    "  | Prevoz | 1.830 | 1.830 | 1.830 | 1.830 | 1.950 | 1.950 | 1.450 | 1.450 | 1.950 | 1.950 | 2.050 | 2.050 |\n",
    "  | Hrana | 23.250 | 23.780 | 24.019 | 24.117 | 24.389 | 24.571 | 24.736 | 24.951 | 25.111 | 25.389 | 25.531 | 25.923 |\n",
    "  | Ostalo | 4.500 | 3.700 | 5.100 | 3.500 | 2.750 | 4.250 | 7.320 | 8.250 | 3.270 | 4.290 | 3.200 | 8.390 |\n",
    "\n",
    "У ћелији испод су исти подаци представљени листом:"
   ]
  },
  {
   "cell_type": "code",
   "execution_count": null,
   "metadata": {},
   "outputs": [],
   "source": [
    "troskovi = [\n",
    "  [\"Stanarina\", 8251, 8436, 8524, 8388, 8241, 8196, 8004, 7996, 7991, 8015, 8353, 8456],\n",
    "  [\"Struja\", 4321, 4530, 4115, 3990, 3985, 3726, 3351, 3289, 3295, 3485, 3826, 3834],\n",
    "  [\"Telefon (fiksni)\", 1425, 1538, 1623, 1489, 1521, 1485, 1491, 1399, 1467, 1531, 1410, 1385],\n",
    "  [\"Telefon (mobilni)\", 2181, 2235, 2073, 1951, 1989, 1945, 3017, 2638, 2171, 1831, 1926, 1833],\n",
    "  [\"TV i internet\", 2399, 2399, 2399, 2399, 2399, 2399, 2399, 2399, 2399, 2399, 2399, 2399 ],\n",
    "  [\"Prevoz\", 1830, 1830, 1830, 1830, 1950, 1950, 1450, 1450, 1950, 1950, 2050, 2050],\n",
    "  [\"Hrana\", 23250, 23780, 24019, 24117, 24389, 24571, 24736, 24951, 25111, 25389, 25531, 25923],\n",
    "  [\"Ostalo\", 4500, 3700, 5100, 3500, 2750, 4250, 7320, 8250, 3270, 4290, 3200, 8390]\n",
    "]"
   ]
  },
  {
   "cell_type": "markdown",
   "metadata": {},
   "source": [
    "*(а)* Представи табелу структуром *DataFrame*."
   ]
  },
  {
   "cell_type": "code",
   "execution_count": null,
   "metadata": {},
   "outputs": [],
   "source": []
  },
  {
   "cell_type": "markdown",
   "metadata": {},
   "source": [
    "*(б)* Израчунај и испиши *укупне* трошкове ове породице по месецима (колико је породица укупно потрошила у јануару, колико у фебруару итд)."
   ]
  },
  {
   "cell_type": "code",
   "execution_count": null,
   "metadata": {},
   "outputs": [],
   "source": []
  },
  {
   "cell_type": "markdown",
   "metadata": {},
   "source": [
    "**Задатак 5.** У датотеци *podaci/LEB.csv* налазе се подаци о очекиваној дужини живота особе у тренутку рођења (енгл. *Life Expectancy at Birth*), по петогодишњим периодима."
   ]
  },
  {
   "cell_type": "markdown",
   "metadata": {},
   "source": [
    "*(а)* Учитај датотеку у структуру података *DataFrame*."
   ]
  },
  {
   "cell_type": "code",
   "execution_count": null,
   "metadata": {},
   "outputs": [],
   "source": []
  },
  {
   "cell_type": "markdown",
   "metadata": {},
   "source": [
    "*(б)* Прикажи ове податке стубичастим дијаграмом."
   ]
  },
  {
   "cell_type": "code",
   "execution_count": null,
   "metadata": {},
   "outputs": [],
   "source": []
  },
  {
   "cell_type": "markdown",
   "metadata": {},
   "source": [
    "**Задатак 6.** Ученици једног разреда су скакали у даљ. Сваки ученик је скакао три пута и резултати су дати у датотеци *SkokUDalj.csv* која се налази у фолдеру *podaci*. Табела има заглавље и састоји се од четири колоне: \"Презиме и име\", \"Скок1\", \"Скок2\" и \"Скок3\".\n",
    "\n",
    "*(а)* Учитај датотеку у структуру података *DataFrame*."
   ]
  },
  {
   "cell_type": "code",
   "execution_count": null,
   "metadata": {},
   "outputs": [],
   "source": []
  },
  {
   "cell_type": "markdown",
   "metadata": {},
   "source": [
    "*(б)* Прикажи ове податке стубичастим дијаграмом који ће имати три групе стубића, по једну за сваки скок. Дијаграм треба да има легенду."
   ]
  },
  {
   "cell_type": "code",
   "execution_count": null,
   "metadata": {},
   "outputs": [],
   "source": []
  },
  {
   "cell_type": "markdown",
   "metadata": {},
   "source": [
    "**Задатак 7.** На адреси\n",
    "\n",
    "    https://raw.githubusercontent.com/resbaz/r-novice-gapminder-files/master/data/gapminder-FiveYearData.csv\n",
    "\n",
    "се налази јавно доступна табела са списком држава света и неким параметрима економског развоја тих држава праћеним у интервалима од 5 година.\n",
    "\n",
    "Табела има следеће колоне:\n",
    "\n",
    "* country = држава\n",
    "* year = година на коју се односе подаци\n",
    "* pop = број становника (енгл. *population*)\n",
    "* continent = континент\n",
    "* lifeExp = очекивани животни век у годинама (енгл. *life expextancy*)\n",
    "* gdpPercap = БДП по глави становника у америчким доларима (енгл. *GDP per capitem*)\n",
    "\n",
    "Учитај ову табелу у структуру података *DataFrame* и прикажи првих 20 редова табеле, као и последњих 10 редова табеле."
   ]
  },
  {
   "cell_type": "code",
   "execution_count": null,
   "metadata": {},
   "outputs": [],
   "source": []
  },
  {
   "cell_type": "markdown",
   "metadata": {},
   "source": [
    "**Задатак 8.** Са следеће адресе\n",
    "\n",
    "    https://www.worldometers.info/world-population/population-by-country/\n",
    "\n",
    "учитај табелу која садржи податке о свим државама на свету и броју њихових становника. Прикажи првих и последњеих неколико редова табеле."
   ]
  },
  {
   "cell_type": "code",
   "execution_count": null,
   "metadata": {},
   "outputs": [],
   "source": []
  },
  {
   "cell_type": "raw",
   "metadata": {},
   "source": [
    "Име и презиме:\n",
    "Одељење: "
   ]
  }
 ],
 "metadata": {
  "kernelspec": {
   "display_name": "Python 3",
   "language": "python",
   "name": "python3"
  },
  "language_info": {
   "codemirror_mode": {
    "name": "ipython",
    "version": 3
   },
   "file_extension": ".py",
   "mimetype": "text/x-python",
   "name": "python",
   "nbconvert_exporter": "python",
   "pygments_lexer": "ipython3",
   "version": "3.7.7"
  }
 },
 "nbformat": 4,
 "nbformat_minor": 2
}
